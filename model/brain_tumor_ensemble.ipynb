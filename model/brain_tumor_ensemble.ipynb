{
  "cells": [
    {
      "cell_type": "code",
      "execution_count": 2,
      "metadata": {
        "execution": {
          "iopub.execute_input": "2024-03-09T20:31:02.525866Z",
          "iopub.status.busy": "2024-03-09T20:31:02.525112Z",
          "iopub.status.idle": "2024-03-09T20:31:02.531373Z",
          "shell.execute_reply": "2024-03-09T20:31:02.530346Z",
          "shell.execute_reply.started": "2024-03-09T20:31:02.525832Z"
        },
        "id": "KyTWlw8TdVFt",
        "trusted": true
      },
      "outputs": [],
      "source": [
        "import pandas as pd\n",
        "import numpy as np\n",
        "import matplotlib.pyplot as plt\n",
        "import tensorflow as tf\n",
        "from tensorflow.keras.applications import ResNet50\n",
        "from tensorflow.keras.models import Sequential\n",
        "from tensorflow.keras.layers import GlobalAveragePooling2D, Dense\n",
        "from keras.preprocessing.image import ImageDataGenerator\n",
        "import os"
      ]
    },
    {
      "cell_type": "code",
      "execution_count": 3,
      "metadata": {
        "execution": {
          "iopub.execute_input": "2024-03-09T20:31:02.795843Z",
          "iopub.status.busy": "2024-03-09T20:31:02.795527Z",
          "iopub.status.idle": "2024-03-09T20:31:02.843002Z",
          "shell.execute_reply": "2024-03-09T20:31:02.842102Z",
          "shell.execute_reply.started": "2024-03-09T20:31:02.795819Z"
        },
        "id": "SsGdahj1dVFv",
        "trusted": true
      },
      "outputs": [],
      "source": [
        "zip_path = '/content/drive/MyDrive/datasets/dataset.zip'\n",
        "import zipfile\n",
        "with zipfile.ZipFile(zip_path, 'r') as zip_ref:\n",
        "    zip_ref.extractall('/content/brain-tumor-dataset')"
      ]
    },
    {
      "cell_type": "code",
      "execution_count": 4,
      "metadata": {
        "colab": {
          "base_uri": "https://localhost:8080/"
        },
        "execution": {
          "iopub.execute_input": "2024-03-09T20:31:03.008052Z",
          "iopub.status.busy": "2024-03-09T20:31:03.007677Z",
          "iopub.status.idle": "2024-03-09T20:31:03.036149Z",
          "shell.execute_reply": "2024-03-09T20:31:03.035456Z",
          "shell.execute_reply.started": "2024-03-09T20:31:03.008022Z"
        },
        "id": "V2uJZstydVFx",
        "outputId": "f85c0478-3231-49a5-a08b-a3d6efbd98b1",
        "trusted": true
      },
      "outputs": [
        {
          "name": "stdout",
          "output_type": "stream",
          "text": [
            "Found 394 images belonging to 4 classes.\n"
          ]
        }
      ],
      "source": [
        "test_datagen = ImageDataGenerator(\n",
        "    rescale=1./255,\n",
        "    shear_range=0.2,\n",
        "    zoom_range=0.2,\n",
        "    horizontal_flip=True)\n",
        "import keras\n",
        "from keras.models import Sequential\n",
        "from keras.layers import Conv2D,Flatten,Dense,MaxPooling2D,Dropout\n",
        "from sklearn.metrics import accuracy_score\n",
        "\n",
        "import ipywidgets as widgets\n",
        "import io\n",
        "from PIL import Image\n",
        "import tqdm\n",
        "from sklearn.model_selection import train_test_split\n",
        "import cv2\n",
        "from sklearn.utils import shuffle\n",
        "import tensorflow as tf\n",
        "\n",
        "import matplotlib.pyplot as plt\n",
        "import seaborn as sns\n",
        "testing_set = test_datagen.flow_from_directory(\n",
        "    '/content/brain-tumor-dataset/dataset/Testing',\n",
        "    target_size=(224, 224),\n",
        "    batch_size=32,\n",
        "    class_mode='sparse',\n",
        "    shuffle=True)"
      ]
    },
    {
      "cell_type": "code",
      "execution_count": 5,
      "metadata": {
        "execution": {
          "iopub.execute_input": "2024-03-09T20:31:03.262570Z",
          "iopub.status.busy": "2024-03-09T20:31:03.261843Z",
          "iopub.status.idle": "2024-03-09T20:31:14.529945Z",
          "shell.execute_reply": "2024-03-09T20:31:14.529106Z",
          "shell.execute_reply.started": "2024-03-09T20:31:03.262534Z"
        },
        "id": "PwzalqxmdVFy",
        "trusted": true
      },
      "outputs": [],
      "source": [
        "X_train = []\n",
        "Y_train = []\n",
        "image_size = 224\n",
        "labels = ['glioma_tumor','meningioma_tumor','no_tumor','pituitary_tumor']\n",
        "for i in labels:\n",
        "    folderPath = os.path.join('/content/brain-tumor-dataset/dataset/Training',i)\n",
        "    for j in os.listdir(folderPath):\n",
        "        img = cv2.imread(os.path.join(folderPath,j))\n",
        "        img = cv2.resize(img,(image_size,image_size))\n",
        "        X_train.append(img)\n",
        "        Y_train.append(i)\n",
        "\n",
        "for i in labels:\n",
        "    folderPath = os.path.join('/content/brain-tumor-dataset/dataset/Testing',i)\n",
        "    for j in os.listdir(folderPath):\n",
        "        img = cv2.imread(os.path.join(folderPath,j))\n",
        "        img = cv2.resize(img,(image_size,image_size))\n",
        "        X_train.append(img)\n",
        "        Y_train.append(i)\n",
        "\n",
        "X_train = np.array(X_train)\n",
        "Y_train = np.array(Y_train)"
      ]
    },
    {
      "cell_type": "code",
      "execution_count": 6,
      "metadata": {
        "colab": {
          "base_uri": "https://localhost:8080/"
        },
        "execution": {
          "iopub.execute_input": "2024-03-09T20:31:14.532448Z",
          "iopub.status.busy": "2024-03-09T20:31:14.531964Z",
          "iopub.status.idle": "2024-03-09T20:31:14.678152Z",
          "shell.execute_reply": "2024-03-09T20:31:14.677193Z",
          "shell.execute_reply.started": "2024-03-09T20:31:14.532411Z"
        },
        "id": "2i1lG-qWdVFy",
        "outputId": "0f27aaa6-3693-4439-a0cb-785524c4a62e",
        "trusted": true
      },
      "outputs": [
        {
          "data": {
            "text/plain": [
              "(3264, 224, 224, 3)"
            ]
          },
          "execution_count": 6,
          "metadata": {},
          "output_type": "execute_result"
        }
      ],
      "source": [
        "X_train,Y_train = shuffle(X_train,Y_train,random_state=101)\n",
        "X_train.shape"
      ]
    },
    {
      "cell_type": "code",
      "execution_count": 7,
      "metadata": {
        "execution": {
          "iopub.execute_input": "2024-03-09T20:31:14.679665Z",
          "iopub.status.busy": "2024-03-09T20:31:14.679359Z",
          "iopub.status.idle": "2024-03-09T20:31:14.824566Z",
          "shell.execute_reply": "2024-03-09T20:31:14.823728Z",
          "shell.execute_reply.started": "2024-03-09T20:31:14.679638Z"
        },
        "id": "P-Sj57dldVF0",
        "trusted": true
      },
      "outputs": [],
      "source": [
        "X_train,X_test,y_train,y_test = train_test_split(X_train,Y_train,test_size=0.1,random_state=101)"
      ]
    },
    {
      "cell_type": "code",
      "execution_count": 8,
      "metadata": {
        "execution": {
          "iopub.execute_input": "2024-03-09T20:31:14.826798Z",
          "iopub.status.busy": "2024-03-09T20:31:14.826498Z",
          "iopub.status.idle": "2024-03-09T20:31:14.836002Z",
          "shell.execute_reply": "2024-03-09T20:31:14.835057Z",
          "shell.execute_reply.started": "2024-03-09T20:31:14.826772Z"
        },
        "id": "DQUAHZ6GdVF0",
        "trusted": true
      },
      "outputs": [],
      "source": [
        "y_train_new = []\n",
        "for i in y_train:\n",
        "    y_train_new.append(labels.index(i))\n",
        "y_train=y_train_new\n",
        "y_train = tf.keras.utils.to_categorical(y_train)\n",
        "\n",
        "y_test_new = []\n",
        "for i in y_test:\n",
        "    y_test_new.append(labels.index(i))\n",
        "y_test=y_test_new\n",
        "y_test = tf.keras.utils.to_categorical(y_test)"
      ]
    },
    {
      "cell_type": "code",
      "execution_count": 82,
      "metadata": {
        "id": "lznvVPwwqN7q"
      },
      "outputs": [],
      "source": [
        "import numpy as np\n",
        "from tensorflow.keras.models import load_model\n",
        "from tensorflow.keras.preprocessing import image\n",
        "import cv2\n",
        "from sklearn.metrics import accuracy_score\n",
        "\n",
        "cnn_model = load_model(\"/content/drive/MyDrive/datasets/BrainTumorCNN.h5\")\n",
        "resnet_model = load_model(\"/content/drive/MyDrive/datasets/BrainTumorResnet50.h5\")\n"
      ]
    },
    {
      "cell_type": "code",
      "execution_count": 90,
      "metadata": {
        "colab": {
          "base_uri": "https://localhost:8080/"
        },
        "execution": {
          "iopub.execute_input": "2024-03-09T20:36:46.923735Z",
          "iopub.status.busy": "2024-03-09T20:36:46.923334Z",
          "iopub.status.idle": "2024-03-09T20:36:55.707580Z",
          "shell.execute_reply": "2024-03-09T20:36:55.706655Z",
          "shell.execute_reply.started": "2024-03-09T20:36:46.923707Z"
        },
        "id": "Gyv9C826dVF9",
        "outputId": "272fcc9d-6009-4d0e-a10c-ec1dbb7f2afe",
        "trusted": true
      },
      "outputs": [
        {
          "name": "stdout",
          "output_type": "stream",
          "text": [
            "11/11 [==============================] - 1s 50ms/step\n",
            "11/11 [==============================] - 1s 95ms/step\n",
            "CNN Accuracy: 0.9021406727828746\n",
            "ResNet Accuracy: 0.9113149847094801\n",
            "Ensemble Accuracy: 0.9296636085626911\n"
          ]
        }
      ],
      "source": [
        "cnn_predictions = cnn_model.predict(X_test)\n",
        "resnet_predictions = resnet_model.predict(X_test)\n",
        "\n",
        "y_true = np.argmax(y_test, axis=1)\n",
        "\n",
        "cnn_labels = np.argmax(cnn_predictions, axis=1)\n",
        "resnet_labels = np.argmax(resnet_predictions, axis=1)\n",
        "\n",
        "cnn_accuracy = accuracy_score(y_true, cnn_labels)\n",
        "resnet_accuracy = accuracy_score(y_true, resnet_labels)\n",
        "\n",
        "print(\"CNN Accuracy:\", cnn_accuracy)\n",
        "print(\"ResNet Accuracy:\", resnet_accuracy)\n",
        "\n",
        "weight_cnn = 0.5\n",
        "weight_resnet = 0.5\n",
        "ensemble_predictions = weight_cnn * cnn_predictions + weight_resnet * resnet_predictions\n",
        "\n",
        "ensemble_labels = np.argmax(ensemble_predictions, axis=1)\n",
        "\n",
        "ensemble_accuracy = accuracy_score(y_true, ensemble_labels)\n",
        "print(\"Ensemble Accuracy:\", ensemble_accuracy)"
      ]
    },
    {
      "cell_type": "code",
      "execution_count": 99,
      "metadata": {
        "colab": {
          "base_uri": "https://localhost:8080/"
        },
        "execution": {
          "iopub.execute_input": "2024-03-09T20:40:33.833780Z",
          "iopub.status.busy": "2024-03-09T20:40:33.832850Z",
          "iopub.status.idle": "2024-03-09T20:40:33.844275Z",
          "shell.execute_reply": "2024-03-09T20:40:33.843247Z",
          "shell.execute_reply.started": "2024-03-09T20:40:33.833748Z"
        },
        "id": "CjBaa8dIdVF_",
        "outputId": "eb650464-76ef-4426-c45b-9afc89968fd6",
        "trusted": true
      },
      "outputs": [
        {
          "name": "stdout",
          "output_type": "stream",
          "text": [
            "1/1 [==============================] - 0s 28ms/step\n",
            "1/1 [==============================] - 0s 55ms/step\n",
            "[1]\n",
            "[1]\n",
            "Ensemble Prediction: [1]\n"
          ]
        }
      ],
      "source": [
        "img = cv2.imread('/content/brain-tumor-dataset/dataset/Testing/meningioma_tumor/image(120).jpg')\n",
        "img = cv2.resize(img, (224, 224))\n",
        "img_array = np.array(img)\n",
        "img_array = img_array.reshape(1, 224, 224, 3)\n",
        "\n",
        "cnn_prediction = cnn_model.predict(img_array)\n",
        "resnet_prediction = resnet_model.predict(img_array)\n",
        "\n",
        "weight_cnn = 0.5\n",
        "weight_resnet = 0.5\n",
        "ensemble_prediction = weight_cnn * cnn_prediction + weight_resnet * resnet_prediction\n",
        "\n",
        "final_label = np.argmax(ensemble_prediction, axis=1)\n",
        "print(np.argmax(cnn_prediction, axis=1))\n",
        "print(np.argmax(resnet_prediction, axis=1))\n",
        "print(\"Ensemble Prediction:\", final_label)"
      ]
    }
  ],
  "metadata": {
    "accelerator": "GPU",
    "colab": {
      "gpuType": "T4",
      "provenance": []
    },
    "kaggle": {
      "accelerator": "nvidiaTeslaT4",
      "dataSources": [
        {
          "datasetId": 672377,
          "sourceId": 1183165,
          "sourceType": "datasetVersion"
        },
        {
          "datasetId": 4569007,
          "sourceId": 7802695,
          "sourceType": "datasetVersion"
        }
      ],
      "dockerImageVersionId": 30664,
      "isGpuEnabled": true,
      "isInternetEnabled": false,
      "language": "python",
      "sourceType": "notebook"
    },
    "kernelspec": {
      "display_name": "Python 3",
      "name": "python3"
    },
    "language_info": {
      "codemirror_mode": {
        "name": "ipython",
        "version": 3
      },
      "file_extension": ".py",
      "mimetype": "text/x-python",
      "name": "python",
      "nbconvert_exporter": "python",
      "pygments_lexer": "ipython3",
      "version": "3.9.0"
    }
  },
  "nbformat": 4,
  "nbformat_minor": 0
}
